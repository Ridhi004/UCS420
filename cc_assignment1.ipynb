{
  "cells": [
    {
      "cell_type": "markdown",
      "metadata": {
        "id": "view-in-github",
        "colab_type": "text"
      },
      "source": [
        "<a href=\"https://colab.research.google.com/github/Ridhi004/UCS420/blob/main/cc_assignment1.ipynb\" target=\"_parent\"><img src=\"https://colab.research.google.com/assets/colab-badge.svg\" alt=\"Open In Colab\"/></a>"
      ]
    },
    {
      "cell_type": "markdown",
      "metadata": {
        "id": "Pk8weFagHOn2"
      },
      "source": [
        "**1.1** WAP to print your name three times"
      ]
    },
    {
      "cell_type": "code",
      "execution_count": null,
      "metadata": {
        "colab": {
          "base_uri": "https://localhost:8080/"
        },
        "id": "UT5eonZI5K_m",
        "outputId": "2829198b-8482-4bc4-c1d6-278179179ee9"
      },
      "outputs": [
        {
          "name": "stdout",
          "output_type": "stream",
          "text": [
            "ridhi\n",
            "ridhi\n",
            "ridhi\n"
          ]
        }
      ],
      "source": [
        "for i in range(3):\n",
        "  print(\"ridhi\")"
      ]
    },
    {
      "cell_type": "markdown",
      "metadata": {
        "id": "gdw5_L-dETJf"
      },
      "source": [
        "**2.1**  WAP to add three numbers and print the result."
      ]
    },
    {
      "cell_type": "code",
      "execution_count": null,
      "metadata": {
        "colab": {
          "base_uri": "https://localhost:8080/"
        },
        "id": "jZGhj4j2AIkm",
        "outputId": "fadc0a0e-7f97-4038-8870-fa1efc18d899"
      },
      "outputs": [
        {
          "name": "stdout",
          "output_type": "stream",
          "text": [
            "10 + 220 + 230 = 460\n"
          ]
        }
      ],
      "source": [
        "a=10\n",
        "b=220\n",
        "c=23\n",
        "c=a+b\n",
        "print(a,\"+\",b,\"+\",c,\"=\",a+b+c)"
      ]
    },
    {
      "cell_type": "markdown",
      "metadata": {
        "id": "5hENgGvjFEsk"
      },
      "source": [
        "**2.2**  WAP to concatinate three strings and print the result."
      ]
    },
    {
      "cell_type": "code",
      "execution_count": null,
      "metadata": {
        "colab": {
          "base_uri": "https://localhost:8080/"
        },
        "id": "_aDP-nJwFChQ",
        "outputId": "81e198c6-8de1-4342-f0f3-618addd76a78"
      },
      "outputs": [
        {
          "name": "stdout",
          "output_type": "stream",
          "text": [
            "helloworldridhi\n"
          ]
        }
      ],
      "source": [
        "a=\"hello\"\n",
        "b=\"world\"\n",
        "c=\"ridhi\"\n",
        "print(a+b+c)"
      ]
    },
    {
      "cell_type": "markdown",
      "metadata": {
        "id": "va_BzH86Fuyi"
      },
      "source": [
        "**4.1**  WAP to print the table of 7, 9."
      ]
    },
    {
      "cell_type": "code",
      "execution_count": null,
      "metadata": {
        "colab": {
          "base_uri": "https://localhost:8080/"
        },
        "id": "YY5K4gplFxLo",
        "outputId": "a5714e48-bb2a-4a71-8def-91f7655ef126"
      },
      "outputs": [
        {
          "name": "stdout",
          "output_type": "stream",
          "text": [
            "7 x 1 = 7     9 x 1 = 9\n",
            "\n",
            "\n",
            "7 x 2 = 14     9 x 2 = 18\n",
            "\n",
            "\n",
            "7 x 3 = 21     9 x 3 = 27\n",
            "\n",
            "\n",
            "7 x 4 = 28     9 x 4 = 36\n",
            "\n",
            "\n",
            "7 x 5 = 35     9 x 5 = 45\n",
            "\n",
            "\n",
            "7 x 6 = 42     9 x 6 = 54\n",
            "\n",
            "\n",
            "7 x 7 = 49     9 x 7 = 63\n",
            "\n",
            "\n",
            "7 x 8 = 56     9 x 8 = 72\n",
            "\n",
            "\n",
            "7 x 9 = 63     9 x 9 = 81\n",
            "\n",
            "\n",
            "7 x 10 = 70     9 x 10 = 90\n",
            "\n",
            "\n"
          ]
        }
      ],
      "source": [
        "for i in range(1,11,1):\n",
        "  print(7,\"x\",i,\"=\",7*i,\"   \",9,\"x\",i,\"=\",9*i)\n",
        "  print(\"\\n\")\n"
      ]
    },
    {
      "cell_type": "markdown",
      "metadata": {
        "id": "V1YwqIRHFwYk"
      },
      "source": [
        "**4.2** WAP to print the table of n and n is given by user."
      ]
    },
    {
      "cell_type": "code",
      "execution_count": null,
      "metadata": {
        "id": "RS8kt2YO0IeT"
      },
      "outputs": [],
      "source": [
        "n = int(input(\"Enter any integer of your choice: \"))\n",
        "for i in range(1, 11):\n",
        "    print(n, \"x\", i, \"=\", n * i)\n"
      ]
    },
    {
      "cell_type": "markdown",
      "metadata": {
        "id": "pYoNBDthHAUP"
      },
      "source": [
        "**4.3** WAP to add all the numbers from 1 to n and n is given by user."
      ]
    },
    {
      "cell_type": "code",
      "execution_count": null,
      "metadata": {
        "colab": {
          "base_uri": "https://localhost:8080/"
        },
        "id": "bCI-lPYbHCdR",
        "outputId": "20936bf4-4766-4f06-8cc3-e93111ec1b04"
      },
      "outputs": [
        {
          "name": "stdout",
          "output_type": "stream",
          "text": [
            "Enter a number\n",
            "12\n",
            "78\n"
          ]
        }
      ],
      "source": [
        "n=int(input(\"Enter a number\\n\"))\n",
        "sum=0\n",
        "for i in range(1,n+1,1):\n",
        "  sum=sum+i\n",
        "print(sum)\n"
      ]
    },
    {
      "cell_type": "markdown",
      "metadata": {
        "id": "n72FKV3vOg76"
      },
      "source": [
        "**5.1 ,5.2,5.3**"
      ]
    },
    {
      "cell_type": "markdown",
      "metadata": {
        "id": "rvvyjmKDIiCD"
      },
      "source": [
        "**5.1**  WAP to find max amoung three numbers and input from user. [Try max() function]"
      ]
    },
    {
      "cell_type": "code",
      "execution_count": null,
      "metadata": {
        "colab": {
          "base_uri": "https://localhost:8080/"
        },
        "id": "JWwHfP-tOnI_",
        "outputId": "a6cc1d49-c979-4bf0-ba8a-55cc101dd2b7"
      },
      "outputs": [
        {
          "name": "stdout",
          "output_type": "stream",
          "text": [
            "enter first number\n",
            "4\n",
            "enter second number\n",
            "6\n",
            "enter third number\n",
            "67\n",
            "max=  67\n"
          ]
        }
      ],
      "source": [
        "a=int(input(\"enter first number\\n\"))\n",
        "b=int(input(\"enter second number\\n\"))\n",
        "c=int(input(\"enter third number\\n\"))\n",
        "max_no=max(a,b,c)\n",
        "print(\"max= \",max_no)"
      ]
    },
    {
      "cell_type": "markdown",
      "metadata": {
        "id": "eNbOnxpHIsY1"
      },
      "source": [
        "**5.2** WAP to add all numbers divisible by 7 and 9 from 1 to n and n is given by the user."
      ]
    },
    {
      "cell_type": "code",
      "execution_count": null,
      "metadata": {
        "colab": {
          "base_uri": "https://localhost:8080/"
        },
        "id": "EB8VFyZRRzRT",
        "outputId": "4722171b-3116-4c42-bead-43130c832aad"
      },
      "outputs": [
        {
          "name": "stdout",
          "output_type": "stream",
          "text": [
            "enter first number\n",
            "63\n",
            "63\n"
          ]
        }
      ],
      "source": [
        "n=int(input(\"enter first number\\n\"))\n",
        "sum=0;\n",
        "for i in range(1,n+1,1):\n",
        "  if(i%7==0 and i%9==0):\n",
        "    sum=sum+i\n",
        "print(sum)"
      ]
    },
    {
      "cell_type": "markdown",
      "metadata": {
        "id": "SchbUh9eIyta"
      },
      "source": [
        "**5.3** WAP to add all prime numbers from 1 to n and n is given by the user."
      ]
    },
    {
      "cell_type": "code",
      "execution_count": null,
      "metadata": {
        "colab": {
          "base_uri": "https://localhost:8080/"
        },
        "id": "7O60xiIQS5jQ",
        "outputId": "44df6c54-e382-4f99-d181-7ce6d67b25d4"
      },
      "outputs": [
        {
          "name": "stdout",
          "output_type": "stream",
          "text": [
            "Enter a No: 10\n",
            "17\n"
          ]
        }
      ],
      "source": [
        "n = int(input(\"Enter a No: \"))\n",
        "sum = 0\n",
        "\n",
        "def is_prime(n):\n",
        "    if n <= 1:\n",
        "        return False\n",
        "    for i in range(2, int(n//2) + 1):\n",
        "        if n % i == 0:\n",
        "            return False\n",
        "    return True\n",
        "\n",
        "for i in range(2, n + 1):\n",
        "    if is_prime(i):\n",
        "        sum += i\n",
        "\n",
        "print(sum)\n"
      ]
    },
    {
      "cell_type": "markdown",
      "metadata": {
        "id": "yULbSb9XOmlS"
      },
      "source": [
        "**6.1**,**6.2**"
      ]
    },
    {
      "cell_type": "markdown",
      "metadata": {
        "id": "_bNFQ4ANI6iq"
      },
      "source": [
        "**6.1** WAP using function that add all odd numbers from 1 to n, n is given by the user."
      ]
    },
    {
      "cell_type": "code",
      "execution_count": null,
      "metadata": {
        "colab": {
          "base_uri": "https://localhost:8080/"
        },
        "id": "lmeUxuXaWt0n",
        "outputId": "66124ef8-5b21-4f95-cd35-720b6d070e37"
      },
      "outputs": [
        {
          "name": "stdout",
          "output_type": "stream",
          "text": [
            "enter first number\n",
            "5\n",
            "9\n"
          ]
        }
      ],
      "source": [
        "n=int(input(\"enter first number\\n\"))\n",
        "sum=0\n",
        "for i in range(1,n+1,2):\n",
        "  sum=sum+i\n",
        "print(sum)\n"
      ]
    },
    {
      "cell_type": "markdown",
      "metadata": {
        "id": "VZojWb7WJALb"
      },
      "source": [
        "**6.2** WAP using function that add all prime numbers from 1 to n, n given by the user."
      ]
    },
    {
      "cell_type": "code",
      "execution_count": null,
      "metadata": {
        "colab": {
          "base_uri": "https://localhost:8080/"
        },
        "id": "oNtkmf08XcDg",
        "outputId": "fd5da111-f102-40e9-a258-4ec0bd538df3"
      },
      "outputs": [
        {
          "name": "stdout",
          "output_type": "stream",
          "text": [
            "Enter a No: 10\n",
            "17\n"
          ]
        }
      ],
      "source": [
        "n = int(input(\"Enter a No: \"))\n",
        "sum = 0\n",
        "\n",
        "def is_prime(n):\n",
        "    if n <= 1:\n",
        "        return False\n",
        "    for i in range(2, int(n//2) + 1):\n",
        "        if n % i == 0:\n",
        "            return False\n",
        "    return True\n",
        "\n",
        "for i in range(2, n + 1):\n",
        "    if is_prime(i):\n",
        "        sum += i\n",
        "\n",
        "print(sum)"
      ]
    }
  ],
  "metadata": {
    "colab": {
      "provenance": [],
      "include_colab_link": true
    },
    "kernelspec": {
      "display_name": "Python 3",
      "name": "python3"
    },
    "language_info": {
      "codemirror_mode": {
        "name": "ipython",
        "version": 3
      },
      "file_extension": ".py",
      "mimetype": "text/x-python",
      "name": "python",
      "nbconvert_exporter": "python",
      "pygments_lexer": "ipython3",
      "version": "3.12.0"
    }
  },
  "nbformat": 4,
  "nbformat_minor": 0
}