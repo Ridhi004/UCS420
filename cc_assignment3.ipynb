{
  "metadata": {
    "kernelspec": {
      "name": "python",
      "display_name": "Python (Pyodide)",
      "language": "python"
    },
    "language_info": {
      "codemirror_mode": {
        "name": "ipython",
        "version": 3
      },
      "file_extension": ".py",
      "mimetype": "text/x-python",
      "name": "python",
      "nbconvert_exporter": "python",
      "pygments_lexer": "ipython3",
      "version": "3.12.1"
    }
  },
  "nbformat_minor": 4,
  "nbformat": 4,
  "cells": [
    {
      "cell_type": "markdown",
      "source": " Create a dataset as follow in the table.",
      "metadata": {}
    },
    {
      "cell_type": "code",
      "source": "import pandas as pd\ndataset = {\n    \"Tid\": [i for i in range(1,11)],\n    \"Refund\": [\"Yes\",\"No\",\"No\",\"Yes\",\"No\",\"No\",\"Yes\",\"No\",\"No\",\"No\"],\n    \"Marital Status\": [\"Single\",\"Married\",\"Single\",\"Married\",\"Divorced\",\"Married\",\"Divorced\",\"Single\",\"Married\",\"Single\"],\n    \"Taxable Income\": [\"125K\",\"100K\",\"70K\",\"120K\",\"95K\",\"60K\",\"220K\",\"85K\",\"75K\",\"90K\"],\n    \"Cheat\": [\"No\",\"No\",\"No\",\"No\",\"Yes\",\"No\",\"No\",\"Yes\",\"No\",\"Yes\"]\n}\ndf = pd.DataFrame(dataset)\ndf",
      "metadata": {
        "scrolled": true
      },
      "outputs": [
        {
          "data": {
            "text/html": [
              "<div>\n",
              "<style scoped>\n",
              "    .dataframe tbody tr th:only-of-type {\n",
              "        vertical-align: middle;\n",
              "    }\n",
              "\n",
              "    .dataframe tbody tr th {\n",
              "        vertical-align: top;\n",
              "    }\n",
              "\n",
              "    .dataframe thead th {\n",
              "        text-align: right;\n",
              "    }\n",
              "</style>\n",
              "<table border=\"1\" class=\"dataframe\">\n",
              "  <thead>\n",
              "    <tr style=\"text-align: right;\">\n",
              "      <th></th>\n",
              "      <th>Tid</th>\n",
              "      <th>Refund</th>\n",
              "      <th>Marital Status</th>\n",
              "      <th>Taxable Income</th>\n",
              "      <th>Cheat</th>\n",
              "    </tr>\n",
              "  </thead>\n",
              "  <tbody>\n",
              "    <tr>\n",
              "      <th>0</th>\n",
              "      <td>1</td>\n",
              "      <td>Yes</td>\n",
              "      <td>Single</td>\n",
              "      <td>125K</td>\n",
              "      <td>No</td>\n",
              "    </tr>\n",
              "    <tr>\n",
              "      <th>1</th>\n",
              "      <td>2</td>\n",
              "      <td>No</td>\n",
              "      <td>Married</td>\n",
              "      <td>100K</td>\n",
              "      <td>No</td>\n",
              "    </tr>\n",
              "    <tr>\n",
              "      <th>2</th>\n",
              "      <td>3</td>\n",
              "      <td>No</td>\n",
              "      <td>Single</td>\n",
              "      <td>70K</td>\n",
              "      <td>No</td>\n",
              "    </tr>\n",
              "    <tr>\n",
              "      <th>3</th>\n",
              "      <td>4</td>\n",
              "      <td>Yes</td>\n",
              "      <td>Married</td>\n",
              "      <td>120K</td>\n",
              "      <td>No</td>\n",
              "    </tr>\n",
              "    <tr>\n",
              "      <th>4</th>\n",
              "      <td>5</td>\n",
              "      <td>No</td>\n",
              "      <td>Divorced</td>\n",
              "      <td>95K</td>\n",
              "      <td>Yes</td>\n",
              "    </tr>\n",
              "    <tr>\n",
              "      <th>5</th>\n",
              "      <td>6</td>\n",
              "      <td>No</td>\n",
              "      <td>Married</td>\n",
              "      <td>60K</td>\n",
              "      <td>No</td>\n",
              "    </tr>\n",
              "    <tr>\n",
              "      <th>6</th>\n",
              "      <td>7</td>\n",
              "      <td>Yes</td>\n",
              "      <td>Divorced</td>\n",
              "      <td>220K</td>\n",
              "      <td>No</td>\n",
              "    </tr>\n",
              "    <tr>\n",
              "      <th>7</th>\n",
              "      <td>8</td>\n",
              "      <td>No</td>\n",
              "      <td>Single</td>\n",
              "      <td>85K</td>\n",
              "      <td>Yes</td>\n",
              "    </tr>\n",
              "    <tr>\n",
              "      <th>8</th>\n",
              "      <td>9</td>\n",
              "      <td>No</td>\n",
              "      <td>Married</td>\n",
              "      <td>75K</td>\n",
              "      <td>No</td>\n",
              "    </tr>\n",
              "    <tr>\n",
              "      <th>9</th>\n",
              "      <td>10</td>\n",
              "      <td>No</td>\n",
              "      <td>Single</td>\n",
              "      <td>90K</td>\n",
              "      <td>Yes</td>\n",
              "    </tr>\n",
              "  </tbody>\n",
              "</table>\n",
              "</div>"
            ],
            "text/plain": [
              "   Tid Refund Marital Status Taxable Income Cheat\n",
              "0    1    Yes         Single           125K    No\n",
              "1    2     No        Married           100K    No\n",
              "2    3     No         Single            70K    No\n",
              "3    4    Yes        Married           120K    No\n",
              "4    5     No       Divorced            95K   Yes\n",
              "5    6     No        Married            60K    No\n",
              "6    7    Yes       Divorced           220K    No\n",
              "7    8     No         Single            85K   Yes\n",
              "8    9     No        Married            75K    No\n",
              "9   10     No         Single            90K   Yes"
            ]
          },
          "execution_count": 2,
          "metadata": {},
          "output_type": "execute_result"
        }
      ],
      "execution_count": 2
    },
    {
      "cell_type": "markdown",
      "source": " From the above table that you have created, locate row 0, 4, 7 and 8 using DataFrame.  ",
      "metadata": {}
    },
    {
      "cell_type": "code",
      "source": "print(df.iloc[[0,4,7,8]])",
      "metadata": {},
      "outputs": [
        {
          "name": "stdout",
          "output_type": "stream",
          "text": "   Tid Refund Marital Status Taxable Income Cheat\n,0    1    Yes         Single           125K    No\n,4    5     No       Divorced            95K   Yes\n,7    8     No         Single            85K   Yes\n,8    9     No        Married            75K    No\n"
        }
      ],
      "execution_count": 3
    },
    {
      "cell_type": "markdown",
      "source": "Navigate the DataFrame and do the following task for the table created in question 1: \n1. Select row from index 3 to 7. \n2. Select row from index 4 to 8, and column 2 to 4. \n3. Select all rows with column index 1 to 3 (include index 3 during selection). ",
      "metadata": {}
    },
    {
      "cell_type": "code",
      "source": "print(df.iloc[3:8])\nprint(df.iloc[4:9, 2:5])\nprint(df.iloc[:, 1:4])",
      "metadata": {},
      "outputs": [
        {
          "name": "stdout",
          "output_type": "stream",
          "text": "   Tid Refund Marital Status Taxable Income Cheat\n,3    4    Yes        Married           120K    No\n,4    5     No       Divorced            95K   Yes\n,5    6     No        Married            60K    No\n,6    7    Yes       Divorced           220K    No\n,7    8     No         Single            85K   Yes\n,  Marital Status Taxable Income Cheat\n,4       Divorced            95K   Yes\n,5        Married            60K    No\n,6       Divorced           220K    No\n,7         Single            85K   Yes\n,8        Married            75K    No\n,  Refund Marital Status Taxable Income\n,0    Yes         Single           125K\n,1     No        Married           100K\n,2     No         Single            70K\n,3    Yes        Married           120K\n,4     No       Divorced            95K\n,5     No        Married            60K\n,6    Yes       Divorced           220K\n,7     No         Single            85K\n,8     No        Married            75K\n,9     No         Single            90K\n"
        }
      ],
      "execution_count": 4
    },
    {
      "cell_type": "markdown",
      "source": "Read a csv file and display its first five rows.",
      "metadata": {}
    },
    {
      "cell_type": "code",
      "source": "import pandas as pd\ndata = pd.read_csv(\"Iris.csv\")\ndf = pd.DataFrame(data)\nprint(df.head())",
      "metadata": {},
      "outputs": [
        {
          "name": "stdout",
          "output_type": "stream",
          "text": "   Id  SepalLengthCm  SepalWidthCm  PetalLengthCm  PetalWidthCm      Species\n,0   1            5.1           3.5            1.4           0.2  Iris-setosa\n,1   2            4.9           3.0            1.4           0.2  Iris-setosa\n,2   3            4.7           3.2            1.3           0.2  Iris-setosa\n,3   4            4.6           3.1            1.5           0.2  Iris-setosa\n,4   5            5.0           3.6            1.4           0.2  Iris-setosa\n"
        }
      ],
      "execution_count": 6
    },
    {
      "cell_type": "markdown",
      "source": " From the csv file (uploaded in the Q.4) delete row 4, and delete column 3. Display the \nresult. ",
      "metadata": {}
    },
    {
      "cell_type": "code",
      "source": "df = df.drop(3, axis=0)\ndf = df.drop(\"SepalWidthCm\", axis=1)\nprint(df.head())",
      "metadata": {},
      "outputs": [
        {
          "name": "stdout",
          "output_type": "stream",
          "text": "   Id  SepalLengthCm  PetalLengthCm  PetalWidthCm      Species\n,0   1            5.1            1.4           0.2  Iris-setosa\n,1   2            4.9            1.4           0.2  Iris-setosa\n,2   3            4.7            1.3           0.2  Iris-setosa\n,4   5            5.0            1.4           0.2  Iris-setosa\n,5   6            5.4            1.7           0.4  Iris-setosa\n"
        }
      ],
      "execution_count": 7
    },
    {
      "cell_type": "markdown",
      "source": "Create a sample dataset (employees.csv) containing information about employees in a company. \nShape (number of rows and columns) of the DataFrame. \nb) Summary of the DataFrame that includes the data types and non-null counts for \neach column. \nc) Generate descriptive statistics. \nd) Display the first 5 rows and last 3 rows of the dataset.  \ne) Calculate the following statistics from the dataset: \ni. The average salary of employees. \nii. The total bonus paid to all employees. \niii. The youngest employee's age. \niv. The highest performance rating. \nf) Sort the DataFrame by the Salary column in descending order. \ng) Add a new column that categorizes employees based on their performance rating: \ni. Excellent for ratings >= 4.5 \nii. Good for ratings >= 4.0 but < 4.5 \niii. Average for ratings < 4.0  \nh) Identify missing values in the DataFrame. \ni) Rename the Employee_ID column to ID. \nj) Find all employees who: \ni. Have more than 5 years of experience. \nii. Belong to the IT department. \nk) Modify the dataset by adding a new column, Tax, which deducts 10% of the \nSalary.  \nl) Save the modified DataFrame (with added columns) to a new CSV file. ",
      "metadata": {}
    },
    {
      "cell_type": "code",
      "source": "df = pd.read_csv(\"employees.csv\")\nprint(df.shape)\nprint(df.info())\nprint(df.describe())\nprint(df.head(5))\nprint(df.tail(3))\nprint(f\"Average Salary: {df[\"Salary\"].mean()}\")\nprint(f\"Total Bonus: {df[\"Bonus\"].sum()}\")\nprint(f\"Minimum Age: {df[\"Age\"].min()}\")\nprint(f\"Highest Performance Rating: {df[\"Rating\"].max()}\")\nsorted_df = df.sort_values(by = \"Salary\", ascending=False)\ndf[\"Performance_category\"] = pd.cut(df[\"Rating\"], bins = [0, 4, 4.5, 5], labels=[\"Average\",\"Good\",\"Excellent\"], right=False)\nmissing_values = df.isnull().sum()\ndf.rename(columns={\"Employee_ID\":\"ID\"},  inplace=True)\nprint(df[df['Years_of_Experience'] > 5])\nprint(df[df['Department'] == 'IT'])\ndf['Tax'] = df['Salary'] * 0.10\ndf.to_csv('modified_employees.csv', index=False)",
      "metadata": {},
      "outputs": [
        {
          "name": "stdout",
          "output_type": "stream",
          "text": "(5, 10)\n,<class 'pandas.core.frame.DataFrame'>\n,RangeIndex: 5 entries, 0 to 4\n,Data columns (total 10 columns):\n, #   Column               Non-Null Count  Dtype  \n,---  ------               --------------  -----  \n, 0   Employee_ID          5 non-null      int64  \n, 1   Name                 5 non-null      object \n, 2   Department           5 non-null      object \n, 3   Age                  5 non-null      int64  \n, 4   Salary               5 non-null      int64  \n, 5   Years_of_Experience  5 non-null      int64  \n, 6   Joining_date         5 non-null      object \n, 7   Gender               5 non-null      object \n, 8   Bonus                5 non-null      int64  \n, 9   Rating               5 non-null      float64\n,dtypes: float64(1), int64(5), object(4)\n,memory usage: 532.0+ bytes\n,None\n,       Employee_ID        Age       Salary  Years_of_Experience   Bonus  \\\n,count     5.000000   5.000000      5.00000             5.000000     5.0   \n,mean    103.000000  34.000000  60000.00000             7.400000  5500.0   \n,std       1.581139   5.612486   7905.69415             3.847077  1000.0   \n,min     101.000000  28.000000  50000.00000             3.000000  4500.0   \n,25%     102.000000  29.000000  55000.00000             4.000000  5000.0   \n,50%     103.000000  34.000000  60000.00000             8.000000  5000.0   \n,75%     104.000000  38.000000  65000.00000            10.000000  6000.0   \n,max     105.000000  41.000000  70000.00000            12.000000  7000.0   \n,\n,         Rating  \n,count  5.000000  \n,mean   4.100000  \n,std    0.494975  \n,min    3.500000  \n,25%    3.800000  \n,50%    4.000000  \n,75%    4.500000  \n,max    4.700000  \n,   Employee_ID     Name Department  Age  Salary  Years_of_Experience  \\\n,0          101    Alice         HR   29   50000                    4   \n,1          102      Bob         IT   34   70000                    8   \n,2          103  Charlie         IT   41   65000                   10   \n,3          104    Diana  Marketing   28   55000                    3   \n,4          105   Edward      Sales   38   60000                   12   \n,\n,  Joining_date  Gender  Bonus  Rating  \n,0   2020-03-15  Female   5000     4.5  \n,1   2017-07-19    Male   7000     4.0  \n,2   2013-06-01    Male   6000     3.8  \n,3   2021-02-10  Female   4500     4.7  \n,4   2010-11-25    Male   5000     3.5  \n,   Employee_ID     Name Department  Age  Salary  Years_of_Experience  \\\n,2          103  Charlie         IT   41   65000                   10   \n,3          104    Diana  Marketing   28   55000                    3   \n,4          105   Edward      Sales   38   60000                   12   \n,\n,  Joining_date  Gender  Bonus  Rating  \n,2   2013-06-01    Male   6000     3.8  \n,3   2021-02-10  Female   4500     4.7  \n,4   2010-11-25    Male   5000     3.5  \n,Average Salary: 60000.0\n,Total Bonus: 27500\n,Minimum Age: 28\n,Highest Performance Rating: 4.7\n,    ID     Name Department  Age  Salary  Years_of_Experience Joining_date  \\\n,1  102      Bob         IT   34   70000                    8   2017-07-19   \n,2  103  Charlie         IT   41   65000                   10   2013-06-01   \n,4  105   Edward      Sales   38   60000                   12   2010-11-25   \n,\n,  Gender  Bonus  Rating Performance_category  \n,1   Male   7000     4.0                 Good  \n,2   Male   6000     3.8              Average  \n,4   Male   5000     3.5              Average  \n,    ID     Name Department  Age  Salary  Years_of_Experience Joining_date  \\\n,1  102      Bob         IT   34   70000                    8   2017-07-19   \n,2  103  Charlie         IT   41   65000                   10   2013-06-01   \n,\n,  Gender  Bonus  Rating Performance_category  \n,1   Male   7000     4.0                 Good  \n,2   Male   6000     3.8              Average  \n"
        }
      ],
      "execution_count": 9
    }
  ]
}